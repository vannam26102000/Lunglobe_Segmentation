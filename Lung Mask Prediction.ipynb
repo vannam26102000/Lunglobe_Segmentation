{
 "cells": [
  {
   "cell_type": "code",
   "execution_count": 1,
   "metadata": {},
   "outputs": [],
   "source": [
    "from lungmask import mask\n",
    "import SimpleITK as sitk\n",
    "import torch\n",
    "import os"
   ]
  },
  {
   "cell_type": "code",
   "execution_count": 2,
   "metadata": {},
   "outputs": [
    {
     "name": "stderr",
     "output_type": "stream",
     "text": [
      "100%|███████████████████████████████████████████| 15/15 [00:01<00:00,  8.93it/s]\n",
      "100%|████████████████████████████████████████| 229/229 [00:00<00:00, 301.43it/s]\n",
      "100%|█████████████████████████████████████████████| 9/9 [00:00<00:00,  9.33it/s]\n",
      "100%|██████████████████████████████████████████| 69/69 [00:00<00:00, 143.21it/s]\n",
      "100%|███████████████████████████████████████████| 10/10 [00:01<00:00,  8.96it/s]\n",
      "100%|██████████████████████████████████████████| 38/38 [00:00<00:00, 153.13it/s]\n",
      "100%|███████████████████████████████████████████| 11/11 [00:01<00:00,  9.02it/s]\n",
      "100%|██████████████████████████████████████████| 22/22 [00:00<00:00, 109.32it/s]\n",
      "100%|███████████████████████████████████████████| 15/15 [00:01<00:00,  9.39it/s]\n",
      "100%|███████████████████████████████████████████| 34/34 [00:00<00:00, 98.13it/s]\n",
      "100%|███████████████████████████████████████████| 18/18 [00:01<00:00,  9.38it/s]\n",
      "100%|███████████████████████████████████████████| 67/67 [00:01<00:00, 64.89it/s]\n",
      "100%|█████████████████████████████████████████████| 8/8 [00:00<00:00, 10.09it/s]\n",
      "100%|██████████████████████████████████████████| 44/44 [00:00<00:00, 187.21it/s]\n"
     ]
    }
   ],
   "source": [
    "root_path = '../data_test/image/'\n",
    "\n",
    "save_path = '../data_test/pred/'\n",
    "\n",
    "image_list = os.listdir(root_path)\n",
    "\n",
    "for image_file_name in image_list:\n",
    "    \n",
    "    input_image = sitk.ReadImage(os.path.join(root_path, image_file_name))\n",
    "\n",
    "    model = mask.get_model('unet','LTRCLobes')\n",
    "    \n",
    "    state_dict = torch.load('./checkpoint/net50-0.004-0.006.pth', map_location=torch.device('cpu'))   \n",
    "\n",
    "    model.load_state_dict(state_dict)\n",
    "    model.eval()\n",
    "\n",
    "    segmentation = mask.apply(input_image, model)\n",
    "\n",
    "    pred_itk = sitk.GetImageFromArray(segmentation)\n",
    "    pred_itk.SetSpacing(input_image.GetSpacing())\n",
    "    pred_itk.SetOrigin(input_image.GetOrigin())\n",
    "                       \n",
    "\n",
    "    sitk.WriteImage(pred_itk, os.path.join(save_path, image_file_name))\n",
    "    \n",
    "    "
   ]
  },
  {
   "cell_type": "code",
   "execution_count": 10,
   "metadata": {},
   "outputs": [],
   "source": []
  },
  {
   "cell_type": "code",
   "execution_count": null,
   "metadata": {},
   "outputs": [],
   "source": []
  }
 ],
 "metadata": {
  "kernelspec": {
   "display_name": "Python 3 (ipykernel)",
   "language": "python",
   "name": "python3"
  },
  "language_info": {
   "codemirror_mode": {
    "name": "ipython",
    "version": 3
   },
   "file_extension": ".py",
   "mimetype": "text/x-python",
   "name": "python",
   "nbconvert_exporter": "python",
   "pygments_lexer": "ipython3",
   "version": "3.9.5"
  }
 },
 "nbformat": 4,
 "nbformat_minor": 4
}
